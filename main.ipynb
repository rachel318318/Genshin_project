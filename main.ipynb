{
 "cells": [
  {
   "cell_type": "code",
   "execution_count": 1,
   "metadata": {},
   "outputs": [],
   "source": [
    "import pandas as pd\n",
    "\n",
    "database = pd.read_csv(\"/Users/rachellee/Documents/GitHub/Genshin_project/database_ex/Sheet 1-Table 1.csv\")"
   ]
  },
  {
   "cell_type": "code",
   "execution_count": 2,
   "metadata": {},
   "outputs": [
    {
     "name": "stdout",
     "output_type": "stream",
     "text": [
      "   Unnamed: 0 Unnamed: 1           속성 Unnamed: 3 Unnamed: 4 Unnamed: 5  \\\n",
      "0        다이루크     Lv. 80     불타오르는 마노  꺼지지 않는 불씨        등불꽃     위관의 휘장   \n",
      "1         NaN        NaN          NaN        NaN        NaN        NaN   \n",
      "2          감우     Lv. 80       서늘한 빙옥      서리의 핵         청심      원소 꽃꿀   \n",
      "3         NaN        NaN          NaN        NaN        NaN        NaN   \n",
      "4          호두     Lv. 60  불타오르는 마노 덩이      설익은 옥        예상꽃    반짝반짝 꽃꿀   \n",
      "5         NaN     Lv. 70  불타오르는 마노 덩이      설익은 옥        예상꽃      원소 꽃꿀   \n",
      "6         NaN     Lv. 80     불타오르는 마노      설익은 옥        예상꽃      원소 꽃꿀   \n",
      "7          중운     Lv. 80       서늘한 빙옥      서리의 핵      콜 라피스     불길한 가면   \n",
      "8         NaN        NaN          NaN        NaN        NaN        NaN   \n",
      "9          모나     Lv. 60          NaN        NaN        NaN        NaN   \n",
      "10        NaN     Lv. 70          NaN        NaN        NaN        NaN   \n",
      "11        NaN     Lv. 80          NaN        NaN        NaN        NaN   \n",
      "12         베넷     Lv. 80          NaN        NaN        NaN        NaN   \n",
      "13        NaN        NaN          NaN        NaN        NaN        NaN   \n",
      "14         행추     Lv. 70          NaN        NaN        NaN        NaN   \n",
      "15        NaN     Lv. 80          NaN        NaN        NaN        NaN   \n",
      "16         설탕     Lv. 80          NaN        NaN        NaN        NaN   \n",
      "17        NaN        NaN          NaN        NaN        NaN        NaN   \n",
      "\n",
      "            무기 Unnamed: 7 Unnamed: 8  \n",
      "0     고화 프로토타입        NaN        NaN  \n",
      "1       흑운철 덩이    석화한 뼛조각     불길한 가면  \n",
      "2      페보니우스 활        NaN        NaN  \n",
      "3   라이언 투사의 이념     혼돈의 노심      원소 꽃꿀  \n",
      "4      호마의 지팡이        NaN        NaN  \n",
      "5          NaN        NaN        NaN  \n",
      "6          NaN        NaN        NaN  \n",
      "7          NaN        NaN        NaN  \n",
      "8          NaN        NaN        NaN  \n",
      "9          NaN        NaN        NaN  \n",
      "10         NaN        NaN        NaN  \n",
      "11         NaN        NaN        NaN  \n",
      "12         NaN        NaN        NaN  \n",
      "13         NaN        NaN        NaN  \n",
      "14         NaN        NaN        NaN  \n",
      "15         NaN        NaN        NaN  \n",
      "16         NaN        NaN        NaN  \n",
      "17         NaN        NaN        NaN  \n"
     ]
    }
   ],
   "source": [
    "print(database)"
   ]
  }
 ],
 "metadata": {
  "kernelspec": {
   "display_name": "Python 3",
   "language": "python",
   "name": "python3"
  },
  "language_info": {
   "codemirror_mode": {
    "name": "ipython",
    "version": 3
   },
   "file_extension": ".py",
   "mimetype": "text/x-python",
   "name": "python",
   "nbconvert_exporter": "python",
   "pygments_lexer": "ipython3",
   "version": "3.8.5"
  }
 },
 "nbformat": 4,
 "nbformat_minor": 4
}
